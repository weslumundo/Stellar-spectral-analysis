{
 "cells": [
  {
   "cell_type": "markdown",
   "id": "ab521ac4",
   "metadata": {},
   "source": [
    "**Your name**: Wesley Sportsman"
   ]
  },
  {
   "cell_type": "markdown",
   "id": "10c2a914",
   "metadata": {},
   "source": [
    "# Spectral analysis assignment (50 points)\n",
    "\n",
    "In this assignment you will perform a set of operations involving spectra.  \n",
    "\n",
    "**This assignment is due at noon on September 13.**  Your final version needs to be uploaded to your github repository by this time.\n",
    "\n",
    "By the end of this activity you will have learned how to do the following things:\n",
    "* Read in spectral files for stars\n",
    "* determine the dispersion of the spectrograph in Angstrom/pixel\n",
    "* plot the spectra of three stars\n",
    "* measure $f_\\lambda$ of each star at a specific wavelength.\n",
    "* Given a frequency, derive $f_\\nu$ at that frequency\n",
    "* plot the filter curve of the B and V filters on top of the stellar spectra\n",
    "* Calculate the B-V color of each star by convolving the spectrum with the appropriate filter curves.  compare to the published values.  During this step you will do the following calculations:\n",
    "  * measure the magnitude using the central flux in each filter\n",
    "  * Figure out your own way to estimate the color more accurately using the filter curve\n",
    "  * repeat the same procedure using the speclite library (https://speclite.readthedocs.io/en/latest/index.html) to get the \"correct\" answer.\n",
    "  * comment on the differences\n",
    "  \n",
    "Places where you need to fill in code will be indicated with a `#### Write code here`.  If the part you have to enter is in the middle of a block of code the area that ends where you have to enter code will end with `#----` Some of these will not be directly linked to points because they are simply bookkeeping things that depend on your own computer.  Other sections that specify specific problems will be indicated with a \n",
    "### Problem\n",
    "statement.  Please read everything carefully to find all the places you will need to enter code\n",
    "\n",
    "**Comments are important**: You need to comment your code thoroughly so that I know what you did and why you did it.  You should add comments in the code and also feel free to add new markdown cells with the format of the cell below.\n"
   ]
  },
  {
   "cell_type": "markdown",
   "id": "1f0aa493",
   "metadata": {},
   "source": [
    "*student comment* : I did something interesting below"
   ]
  },
  {
   "cell_type": "markdown",
   "id": "4791e002",
   "metadata": {},
   "source": [
    "## The spectral library\n",
    "\n",
    "We will be using the <a href=https://www.noao.edu/cflib/>\"Indo-US Spectral Atlas\" </a> of bright stars.  I have downloaded two stellar spectra and they are included in my github repository.\n",
    "\n",
    "In some of the code below, the explanation will be in the commented text within the code block, so make sure to read all of it.\n",
    "\n",
    "## Importing modules, packages, and libraries\n",
    "\n",
    "The first step will be to import the necessary components."
   ]
  },
  {
   "cell_type": "code",
   "execution_count": 1,
   "id": "72479056",
   "metadata": {},
   "outputs": [],
   "source": [
    "#This library stores filter response curves and contains functions to convolve them with spectra\n",
    "import speclite.filters                         \n",
    "\n",
    "#the library that allows you to read, store, and manipulate tables\n",
    "from astropy.table import Table\n",
    "\n",
    "#Pyplot is what we will use to make many of our plots.\n",
    "from matplotlib import pyplot as plt\n",
    "\n",
    "#allows you to execute commands directly to the operating system\n",
    "import os           \n",
    "\n",
    "#this is a useful python module that allows you to assign explicit units to numbers that \n",
    "#python uses to handle unit conversions and to perform calculations.  It can be a little\n",
    "#hard to get used to but is very useful once you learn how to use it.\n",
    "from astropy import units as u\n",
    "\n",
    "#built-in physical constants\n",
    "from astropy import constants as c\n",
    "\n",
    "import numpy as np"
   ]
  },
  {
   "cell_type": "markdown",
   "id": "2e867887",
   "metadata": {},
   "source": [
    "## Reading in the Files \n",
    "\n",
    "The next step will be to read in the files.  I encourage you to open each of the \\*.txt files that contain the stellar spectra.  We will read each text file into an \"astropy Table\".  These are described at https://docs.astropy.org/en/stable/table/index.html and are a useful way to read in and store text data.\n",
    "\n",
    "### Problem 1 (5 points)\n",
    "Complete the missing sections of the code."
   ]
  },
  {
   "cell_type": "code",
   "execution_count": 2,
   "id": "ba07685b",
   "metadata": {
    "scrolled": true
   },
   "outputs": [
    {
     "data": {
      "text/html": [
       "<i>Table length=15011</i>\n",
       "<table id=\"table139629748489088\" class=\"table-striped table-bordered table-condensed\">\n",
       "<thead><tr><th>lambda</th><th>flam</th></tr></thead>\n",
       "<thead><tr><th>float64</th><th>float64</th></tr></thead>\n",
       "<tr><td>3465.0</td><td>0.9348064</td></tr>\n",
       "<tr><td>3465.4</td><td>0.9298626</td></tr>\n",
       "<tr><td>3465.8</td><td>0.9295582</td></tr>\n",
       "<tr><td>3466.2</td><td>0.9163543</td></tr>\n",
       "<tr><td>3466.6</td><td>0.9428962</td></tr>\n",
       "<tr><td>3467.0</td><td>0.9729065</td></tr>\n",
       "<tr><td>3467.4</td><td>0.9731162</td></tr>\n",
       "<tr><td>3467.8</td><td>0.965655</td></tr>\n",
       "<tr><td>3468.2</td><td>0.9507776</td></tr>\n",
       "<tr><td>3468.6</td><td>0.9536763</td></tr>\n",
       "<tr><td>...</td><td>...</td></tr>\n",
       "<tr><td>9465.4</td><td>0.2157303</td></tr>\n",
       "<tr><td>9465.8</td><td>0.2157876</td></tr>\n",
       "<tr><td>9466.2</td><td>0.2135871</td></tr>\n",
       "<tr><td>9466.601</td><td>0.2129272</td></tr>\n",
       "<tr><td>9467.0</td><td>0.2132561</td></tr>\n",
       "<tr><td>9467.4</td><td>0.2155986</td></tr>\n",
       "<tr><td>9467.8</td><td>0.2142797</td></tr>\n",
       "<tr><td>9468.2</td><td>0.2163211</td></tr>\n",
       "<tr><td>9468.601</td><td>0.2146794</td></tr>\n",
       "<tr><td>9469.0</td><td>0.2090593</td></tr>\n",
       "</table>"
      ],
      "text/plain": [
       "<Table length=15011>\n",
       " lambda     flam  \n",
       "float64   float64 \n",
       "-------- ---------\n",
       "  3465.0 0.9348064\n",
       "  3465.4 0.9298626\n",
       "  3465.8 0.9295582\n",
       "  3466.2 0.9163543\n",
       "  3466.6 0.9428962\n",
       "  3467.0 0.9729065\n",
       "  3467.4 0.9731162\n",
       "  3467.8  0.965655\n",
       "  3468.2 0.9507776\n",
       "  3468.6 0.9536763\n",
       "     ...       ...\n",
       "  9465.4 0.2157303\n",
       "  9465.8 0.2157876\n",
       "  9466.2 0.2135871\n",
       "9466.601 0.2129272\n",
       "  9467.0 0.2132561\n",
       "  9467.4 0.2155986\n",
       "  9467.8 0.2142797\n",
       "  9468.2 0.2163211\n",
       "9468.601 0.2146794\n",
       "  9469.0 0.2090593"
      ]
     },
     "metadata": {},
     "output_type": "display_data"
    },
    {
     "data": {
      "text/html": [
       "<i>Table length=15011</i>\n",
       "<table id=\"table139630600043344\" class=\"table-striped table-bordered table-condensed\">\n",
       "<thead><tr><th>lambda</th><th>flam</th></tr></thead>\n",
       "<thead><tr><th>float64</th><th>float64</th></tr></thead>\n",
       "<tr><td>3465.0</td><td>0.3538652</td></tr>\n",
       "<tr><td>3465.4</td><td>0.2905372</td></tr>\n",
       "<tr><td>3465.8</td><td>0.2453179</td></tr>\n",
       "<tr><td>3466.2</td><td>0.2475912</td></tr>\n",
       "<tr><td>3466.6</td><td>0.2801426</td></tr>\n",
       "<tr><td>3467.0</td><td>0.3293486</td></tr>\n",
       "<tr><td>3467.4</td><td>0.373181</td></tr>\n",
       "<tr><td>3467.8</td><td>0.3981356</td></tr>\n",
       "<tr><td>3468.2</td><td>0.4190642</td></tr>\n",
       "<tr><td>3468.6</td><td>0.4192701</td></tr>\n",
       "<tr><td>...</td><td>...</td></tr>\n",
       "<tr><td>9465.4</td><td>0.0001</td></tr>\n",
       "<tr><td>9465.8</td><td>0.0001</td></tr>\n",
       "<tr><td>9466.2</td><td>0.0001</td></tr>\n",
       "<tr><td>9466.601</td><td>0.0001</td></tr>\n",
       "<tr><td>9467.0</td><td>0.0001</td></tr>\n",
       "<tr><td>9467.4</td><td>0.0001</td></tr>\n",
       "<tr><td>9467.8</td><td>0.0001</td></tr>\n",
       "<tr><td>9468.2</td><td>0.0001</td></tr>\n",
       "<tr><td>9468.601</td><td>0.0001</td></tr>\n",
       "<tr><td>9469.0</td><td>0.0001</td></tr>\n",
       "</table>"
      ],
      "text/plain": [
       "<Table length=15011>\n",
       " lambda     flam  \n",
       "float64   float64 \n",
       "-------- ---------\n",
       "  3465.0 0.3538652\n",
       "  3465.4 0.2905372\n",
       "  3465.8 0.2453179\n",
       "  3466.2 0.2475912\n",
       "  3466.6 0.2801426\n",
       "  3467.0 0.3293486\n",
       "  3467.4  0.373181\n",
       "  3467.8 0.3981356\n",
       "  3468.2 0.4190642\n",
       "  3468.6 0.4192701\n",
       "     ...       ...\n",
       "  9465.4    0.0001\n",
       "  9465.8    0.0001\n",
       "  9466.2    0.0001\n",
       "9466.601    0.0001\n",
       "  9467.0    0.0001\n",
       "  9467.4    0.0001\n",
       "  9467.8    0.0001\n",
       "  9468.2    0.0001\n",
       "9468.601    0.0001\n",
       "  9469.0    0.0001"
      ]
     },
     "metadata": {},
     "output_type": "display_data"
    }
   ],
   "source": [
    "#Use an OS command to get the path to your home directory\n",
    "homedir = os.getenv(\"HOME\")\n",
    "\n",
    "#here you will need to specify the directory tree that points to your spectrum files.  \n",
    "#This directory starts in your home directory so you don't need to type, e.g.  /home/<username>/\n",
    "#I've shown you how I did it for my computer but you need to set it up for your computer.\n",
    "#### Write code here\n",
    "specdir = homedir+'/w864s382/Stellar-spectral-analysis/'\n",
    "\n",
    "#------\n",
    "#this moves you to specdir so that you don't need to specify the path every time you read in a file.\n",
    "os.chdir(specdir)\n",
    "\n",
    "#this command reads the wavelength and flux of 95418.txt into a variable called star1.  \n",
    "#The 'names' kwarg specifies the names of the columns\n",
    "star1 = Table.read('95418.txt',format='ascii', names=('lambda','flam'))\n",
    "display(star1)               #display the value of the table\n",
    "\n",
    "#Now I would like you to read 165341.txt into a variable called star3.  \n",
    "#Display the values for the table\n",
    "\n",
    "#### Write code here\n",
    "star3 = Table.read('165341.txt',format='ascii', names=('lambda','flam'))\n",
    "display(star3)\n",
    "#-------\n",
    "#scale the flux of each star to have the same flux as Vega at 5500 Ang.\n",
    "#At 5500 Ang, Vega has a flux of 3.44x10^(-9) erg/s/cm^2/Ang\n",
    "#########remember that if you rerun your jupyter notebook that this operation will \n",
    "#########be executed over and over again.\n",
    "fvega5500 = 3.44e-9\n",
    "star1['flam'] *= fvega5500\n",
    "##star2['flam'] *= fvega5500\n",
    "star3['flam'] *= fvega5500"
   ]
  },
  {
   "cell_type": "markdown",
   "id": "17743670",
   "metadata": {},
   "source": [
    "## Compute the dispersion of the spectra\n",
    "\n",
    "### Problem 2 (5 points)\n",
    "\n",
    "Using the print outs of the spectra above, enter the dispersion of each spectrum.  That is, what is the spacing in Angstroms between each adjacent flux point?\n",
    "\n",
    "**Enter your answers here**\n",
    "* star 1: 0.4 A\n",
    "* star 3: 0.4 A\n"
   ]
  },
  {
   "cell_type": "markdown",
   "id": "241199b8",
   "metadata": {},
   "source": [
    "## Plot the spectra \n",
    "\n",
    "### Problem 3 (5 points)\n",
    "Here you will plot the spectrum of the stars.  I will plot the first one and you will plot the others.  Note that the stars all have flambda=1 at 5500 Angstroms.  This is because the authors of the spectral atlas normalized the spectra this way.  Therefore the absolute values of the flux aren't in physical units but arbitrary ones. However, the relative fluxes are fine.  In the first part of the code I will scale all of the spectra to have the same flux as Vega at 5500 Ang.\n",
    "\n",
    "See https://matplotlib.org/stable/tutorials/introductory/pyplot.html for a tutorial on using pyplot in matplotlib to make nice plots."
   ]
  },
  {
   "cell_type": "code",
   "execution_count": 3,
   "id": "561fa9f9",
   "metadata": {},
   "outputs": [],
   "source": [
    "def starplot():\n",
    "    # use pyplot to plot each star\n",
    "    #this initializes a figure with a given size\n",
    "    plt.figure(figsize=(10,10))\n",
    "    #this plots the wavelength and flux of the star, makes the color of the line blue, \n",
    "    #and sets the label in the legend to say \"star1\"\n",
    "    plt.plot(star1['lambda'],star1['flam'], color='blue', label='star1')\n",
    "\n",
    "    #this sets the x-range of the plot.  The y-range is scaled automatically\n",
    "    plt.xlim([3500,7500])\n",
    "\n",
    "    #Now I want you to plot the other star in the same way, \n",
    "    #with star 3 in magenta.  Make sure to include the name of the \n",
    "    #star in the legend label\n",
    "    #### Write code here\n",
    "    plt.plot(star3['lambda'],star3['flam'], color='magenta', label='star3')\n",
    "    #----\n",
    "\n",
    "    #this provides x and y-axis labels.  The \"size\" command gives the size of the font\n",
    "    plt.xlabel('$\\lambda$ [$\\AA$]',size=20)\n",
    "    plt.ylabel('$f_\\lambda$ normalized to $f_\\lambda(Vega)$ at 5000$\\AA$ [erg/s/cm$^2/\\AA$]', size=20)\n",
    "    \n",
    "    #this sets the tick size to be easily readable\n",
    "    plt.xticks(fontsize=16)\n",
    "    plt.yticks(fontsize=16)\n",
    "\n",
    "    #this plots the legend and sets the size of the text in the legend\n",
    "    plt.legend(fontsize=20)\n",
    "\n"
   ]
  },
  {
   "cell_type": "code",
   "execution_count": 6,
   "id": "c596d7b6",
   "metadata": {},
   "outputs": [
    {
     "data": {
      "image/png": "[encoded data removed]",
      "text/plain": [
       "<Figure size 720x720 with 1 Axes>"
      ]
     },
     "metadata": {
      "needs_background": "light"
     },
     "output_type": "display_data"
    }
   ],
   "source": [
    "#this calls the function from above\n",
    "starplot()\n",
    "#this causes the plot to display\n",
    "plt.show()"
   ]
  },
  {
   "cell_type": "markdown",
   "id": "a1663d1b",
   "metadata": {},
   "source": [
    "### Problem 4 (5 points)\n",
    "Comment on the differences and similarities between the three spectra.  Write your answer in an empty markdown below this one. *Note: the strange dip in the blue spectrum at ~6800 is from the instrument and not the star.*"
   ]
  },
  {
   "cell_type": "markdown",
   "id": "af620f5b",
   "metadata": {},
   "source": [
    "answer here: Star 1 more blue than star 3, and has a lot more photons coming from that wavelength, but drops down very much in the longer wavelengths, while star 3 remains relativly constant in the higher and lower wavelengths. Another difference is that star 1 has very noticable spectral lines where in star 3, the spectral lines are less obvious at this scale."
   ]
  },
  {
   "cell_type": "markdown",
   "id": "405f8969",
   "metadata": {},
   "source": [
    "## Measure the monochromatic flux density of each star at 4500 Angstroms\n",
    "\n",
    "You will now need to find the closest flux point to the one at 4500 and 6500 Angstroms and print it out.  This will be the monochromatic flux density in $f_\\lambda$.\n",
    "\n",
    "I will start by showing you how to extract the $f_\\lambda$ of star 1 at 4500 Anstroms"
   ]
  },
  {
   "cell_type": "code",
   "execution_count": 4,
   "id": "442e50e7",
   "metadata": {
    "scrolled": true
   },
   "outputs": [
    {
     "name": "stdout",
     "output_type": "stream",
     "text": [
      "flam of star1 at 4499.8 Angstroms =  6.41211184e-09\n"
     ]
    }
   ],
   "source": [
    "#these are the reference wavelengths in angstroms\n",
    "lamref1 = 4500.0\n",
    "lamref2 = 6500.0\n",
    "\n",
    "#to select a given wavelength we will make a new array \n",
    "#that is filled with the absolute value of the difference between the reference wavelength \n",
    "#and our wavelength array.  \n",
    "star1_difflam_ref1 = abs(star1['lambda'] - lamref1)\n",
    "\n",
    "#now find the wavelength that is closest to lamref1 by using the 'argmin' function in python\n",
    "#which returns the *index* that corresponds to the minimum value of the array\n",
    "minind_star1_difflam_ref1 = np.argmin(star1_difflam_ref1)\n",
    "\n",
    "#now we can use this index to find the wavelength and flux closest to the reference \n",
    "#wavelength by adding on a second index field to the star1 array.  star1['flam'] is \n",
    "#an array and by adding a second index field we can access elements of that array.\n",
    "#we assign these indexed values to two new variables.\n",
    "flam_star1_lamref1 = star1['flam'][minind_star1_difflam_ref1]\n",
    "star1_lamref1 = star1['lambda'][minind_star1_difflam_ref1]\n",
    "\n",
    "print('flam of star1 at', star1_lamref1, 'Angstroms = ', star1['flam'][minind_star1_difflam_ref1])\n"
   ]
  },
  {
   "cell_type": "markdown",
   "id": "6749a961",
   "metadata": {},
   "source": [
    "### Problem 5 (15 points)\n",
    "In the following code blocks you will need to write code that allows you to:\n",
    "1. (5 points) retrieve $f_\\lambda$ from star1 and 3 at 2 reference wavelengths of 4500 and 6500 Angstroms (I  showed you above how to do this for star 1 at 4500 Anstroms);\n",
    "2. (5 points) calculate $f_\\nu$ at each of these reference wavelengths for both stars.  Your answer should be in erg/s/cm$^2$/Hz;\n",
    "3. (5 points) comment on how $f_\\lambda$ and $f_\\nu$ compare between the stars at each wavelength.  For example, is the brightest star in $f_\\lambda$ at one wavelength the same as the brightest star in $f_\\nu$ at taht wavelength, or not.  Explain why is this so.\n",
    "\n",
    "To do part 1, I want you to make similar print statements for $f_\\lambda$ for the second reference wavelength for star 1 and for both reference \n",
    "wavelengths for star 3.  Treat every star's wavelength array as different as in general you \n",
    "don't know if they all have the same length.\n",
    "\n",
    "Also make sure you print them out in a way that is easy for me to understand.  You \n",
    "can use my code as a template for how this print statement should look.  I've included that print statement at the end of the code blocks.\n",
    "\n",
    "This section might seem a bit long, but with the exception of the last calculations should just\n",
    "be based on what I did above.  I will provide some small hints throughout."
   ]
  },
  {
   "cell_type": "code",
   "execution_count": 5,
   "id": "6df49931",
   "metadata": {},
   "outputs": [
    {
     "name": "stdout",
     "output_type": "stream",
     "text": [
      "\n",
      "flam of star3 at 4499.8 Angstroms =  3.80398296e-09\n",
      "\n",
      "flam of star1 at 6499.8 Angstroms =  2.135557504e-09\n",
      "flam of star3 at 6499.8 Angstroms =  3.025798888e-09\n"
     ]
    }
   ],
   "source": [
    "#### Write code here for 5.1\n",
    "\n",
    "\n",
    "#construct the wavelength difference array for all the star and reference wavelength combinations.\n",
    "star3_difflam_ref1 = abs(star3['lambda']-lamref1)             #star 3, lambda 1\n",
    "\n",
    "star1_difflam_ref2 =  abs(star1['lambda']-lamref2)             #star 1, lambda 2\n",
    "star3_difflam_ref2 =  abs(star3['lambda']-lamref2)             #star 3, lambda 2\n",
    "\n",
    "#find the minimum value of this difference\n",
    "minind_star3_difflam_ref1 = np.argmin(star3_difflam_ref1)       #star 3, lambda 1\n",
    "\n",
    "minind_star1_difflam_ref2 = np.argmin(star1_difflam_ref2)       #star 1, lambda 2\n",
    "minind_star3_difflam_ref2 = np.argmin(star3_difflam_ref2)       #star 3, lambda 2\n",
    "\n",
    "#find the wavelength at the minimum value of the difference by using the index you just fond\n",
    "star3_lamref1 =  star3['lambda'][minind_star3_difflam_ref1]  #star 3, lambda 1\n",
    "\n",
    "star1_lamref2 =  star1['lambda'][minind_star1_difflam_ref2]  #star 1, lambda 2\n",
    "star3_lamref2 =  star3['lambda'][minind_star3_difflam_ref2]  #star 3, lambda 2\n",
    "\n",
    "#find the flux at that wavelength by using the index you just fond\n",
    "flam_star3_lamref1 = star3['flam'][minind_star3_difflam_ref1]   #star 3, lambda 1\n",
    "\n",
    "flam_star1_lamref2 = star1['flam'][minind_star1_difflam_ref2]   #star 1, lambda 2\n",
    "flam_star3_lamref2 = star3['flam'][minind_star3_difflam_ref2]   #star 3, lambda 2\n",
    "\n",
    "\n",
    "#now print out the values\n",
    "print()\n",
    "print('flam of star3 at', star3_lamref1, 'Angstroms = ', flam_star3_lamref1)\n",
    "print()\n",
    "print('flam of star1 at', star1_lamref2, 'Angstroms = ', flam_star1_lamref2)\n",
    "print('flam of star3 at', star3_lamref2, 'Angstroms = ', flam_star3_lamref2)\n",
    "\n",
    "#as an internal check, verify to yourself that the wavelengths correspond closely \n",
    "#to the reference wavelengths and check your answers against the figure above\n",
    "\n"
   ]
  },
  {
   "cell_type": "markdown",
   "id": "d3c111b1",
   "metadata": {},
   "source": [
    "now I want you to use the values of $f_\\lambda$ and $\\lambda$ to to compute $f_\\nu$ in erg/s/cms$^2$/Hz .\n",
    "I want you to do this for star1 **and** star 3\n",
    "For the conversion, if you choose you can assume that the reference wavelengths for each star are exactly at 4500 and 6500 Angstroms, even though those won't be exactly right.\n",
    "\n",
    "Print out the values so that I know which values are which.\n",
    "\n",
    "In the formula, you use to get $f_\\nu$, you need to make sure that the units of your answer make sense."
   ]
  },
  {
   "cell_type": "code",
   "execution_count": 6,
   "id": "dfebc01b",
   "metadata": {},
   "outputs": [
    {
     "name": "stdout",
     "output_type": "stream",
     "text": [
      "\n",
      "fnu of star1 at 4499.8 Angstroms =  4.328175492e-20\n",
      "fnu of star3 at 4499.8 Angstroms =  2.567688498e-20\n",
      "\n",
      "fnu of star1 at 6499.8 Angstroms =  3.007576818133333e-20\n",
      "fnu of star3 at 6499.8 Angstroms =  4.261333433933333e-20\n"
     ]
    }
   ],
   "source": [
    "#### Write code here for 5.2\n",
    "\n",
    "#find the frequency at the reference wavelength\n",
    "#convert lamref1 to m and then to Hz\n",
    "\n",
    "sol=(3*10**8)#speed of light in m/s\n",
    "solA=(3*10**18)#sol in cm/s\n",
    "AtoM=(10**(-10))\n",
    "AtoCM=(10**(-8))\n",
    "\n",
    "nu_ref1 = sol/(lamref1*AtoM)\n",
    "\n",
    "nu_ref2 = sol/(lamref2*AtoM)\n",
    "\n",
    "#hint: make sure that c has the right units so that your answer is in erg/s/cm^2/Hz\n",
    "#Fnu=Flam*lam^2/c\n",
    "fnu_star1_lamref1 = flam_star1_lamref1 * (lamref1)**2/solA\n",
    "fnu_star3_lamref1 = flam_star3_lamref1 * (lamref1)**2/solA\n",
    "\n",
    "fnu_star1_lamref2 = flam_star1_lamref2 * (lamref2)**2/solA\n",
    "fnu_star3_lamref2 = flam_star3_lamref2 * (lamref2)**2/solA\n",
    "\n",
    "print()\n",
    "print('fnu of star1 at', star1_lamref1, 'Angstroms = ', fnu_star1_lamref1)\n",
    "print('fnu of star3 at', star3_lamref1, 'Angstroms = ', fnu_star3_lamref1)\n",
    "print()\n",
    "print('fnu of star1 at', star1_lamref2, 'Angstroms = ', fnu_star1_lamref2)\n",
    "print('fnu of star3 at', star3_lamref2, 'Angstroms = ', fnu_star3_lamref2)\n",
    "#----"
   ]
  },
  {
   "cell_type": "markdown",
   "id": "d478f54d",
   "metadata": {},
   "source": [
    "### 5.3 Looking at the plot of the spectra above, comment on the relative rankings of flambda and fnu at both reference wavelengths.  Does the ranking correspond to your expectations?  Justify your answer.\n",
    "It corresponds with my expectations, an fnu graph has numbers to the left of the graph corresponding to a larger amount of energy ie, a straight line on a flam graph is a diagonal line on fnu, therefore for star 3 I expect fnu1 to be a good deal smaller than fnu2, and it is: 0.75 is smaller than 1.25. For star 1 the right side of the graph is lower than star 3 so I expect fnu2 to be lower for star 1 than star 3, and again it is: 0.88 < 1.25. Finally for the left side of star 1, it spikes in flam but the values for the left side of an fnu graph carry more weight so I assumed it would be similar to fnu2 of star 3, which is true: 1.27~=1.25"
   ]
  },
  {
   "cell_type": "markdown",
   "id": "9aced78f",
   "metadata": {},
   "source": [
    "### Estimate the color of the spectra using the filter curves\n",
    "Now we will plot our filter curves on top of the spectra with an arbitrary normalization.  You will then estimate the color of each star in three different ways.  \n"
   ]
  },
  {
   "cell_type": "code",
   "execution_count": 7,
   "id": "7068ed9b",
   "metadata": {},
   "outputs": [
    {
     "data": {
      "image/png": "[encoded data removed]",
      "text/plain": [
       "<Figure size 720x720 with 1 Axes>"
      ]
     },
     "metadata": {
      "needs_background": "light"
     },
     "output_type": "display_data"
    }
   ],
   "source": [
    "#This calls the plotting function from earlier in the code and plots the stars\n",
    "starplot()\n",
    "\n",
    "#this now reads in the filter traces and overplots them\n",
    "#now read in \"g\" and \"r\" filter curves from speclite.  \n",
    "gband = speclite.filters.load_filter('sdss2010-g')\n",
    "rband = speclite.filters.load_filter('sdss2010-r')\n",
    "#normalize the filter response curves so that they fits on our plot, \n",
    "#since they are usually plotted from 0 to 1.\n",
    "\n",
    "#For speclite output, the values are referenced using the .wavelength and .response\n",
    "#you can access individual gband.wavelength is an array that can be accessed using indices\n",
    "#like gband.wavelength[22]\n",
    "plt.plot(gband.wavelength,gband.response * 3.e-9,linewidth=5)\n",
    "plt.plot(rband.wavelength,rband.response * 3.e-9,linewidth=5)\n",
    "\n",
    "#this causes the plot to display\n",
    "plt.show()\n"
   ]
  },
  {
   "cell_type": "markdown",
   "id": "dd01acbe",
   "metadata": {},
   "source": [
    "## Boolean arrays - A way to access a given set of elements in an array\n",
    "\n",
    "This section provides some useful background that you may choose employ for exercise #6.2 below.\n",
    "\n",
    "If you have an array, you can perform queries based on values of that array.  These queries return \"Boolean arrays\", which will contain True or False values depending on whether the element of the array meets the criteria.  You can then use these Boolean arrays to only access the value you would"
   ]
  },
  {
   "cell_type": "code",
   "execution_count": 8,
   "id": "9938acfa",
   "metadata": {},
   "outputs": [
    {
     "name": "stdout",
     "output_type": "stream",
     "text": [
      "A boolean array that selects small a values: [ True  True  True False False]\n",
      "Only the elemens of a for which the query yielded a True: [1 2 3]\n",
      "Only the elements of b that were selected by the previous query: ['aa' 'bb' 'cc']\n",
      "The elements of a and b that meet the new criteria:  [3] ['cc']\n",
      "The results of combining the two previous selections: [False False  True False False] [3]\n",
      "<module 'astropy.constants' from '/home/w864s382/.conda/envs/python3env/lib/python3.9/site-packages/astropy/constants/__init__.py'>\n"
     ]
    }
   ],
   "source": [
    "#this example shows you how to create and use a boolean array witha single argument\n",
    "a = np.array([1,2,3,4,5])           #create an array\n",
    "#perform a query.\n",
    "#I always end the the output of a Boolean query out with \"flag\" so that I know it's a \n",
    "#Boolean array\n",
    "asmallflag = a < 4           \n",
    "\n",
    "#you can see that only the first three elements of asmall are \"True\"\n",
    "print('A boolean array that selects small a values:', asmallflag)\n",
    "\n",
    "#now using 'abig' as an array of indices for 'a' you can print out only the elements of a \n",
    "#that meet your query, that is, those that have True indices\n",
    "print('Only the elemens of a for which the query yielded a True:', a[asmallflag])\n",
    "\n",
    "#Now let's make a second array with the same length as a\n",
    "b = np.array(['aa','bb','cc','dd','ee'])\n",
    "\n",
    "# in this case, b could be names of object in a table and a could be some value associated \n",
    "#with those objects.  Since they have the same length, same order, **and** refer to the same set of data\n",
    "#we can apply the 'abig' Boolean array to find out which elements of b are selected when we \n",
    "#perform our query on a\n",
    "print('Only the elements of b that were selected by the previous query:', b[asmallflag])\n",
    "\n",
    "#that's pretty cool!  But wait, there's more\n",
    "#you can also make Boolean arrays by combining different conditions.  You can do this two different\n",
    "#wasy.  \n",
    "#First, you can set up a single query with two conditions, each enclosed in ()\n",
    "amidflag = (a>2) & (a<4)\n",
    "print('The elements of a and b that meet the new criteria: ', a[amidflag], b[amidflag])\n",
    "\n",
    "#but I can also make individual Boolean arrays and combine them with a logical AND (&) command.\n",
    "#Only elements that are True in both input arrays are true in the output array\n",
    "abigflag = a>2\n",
    "amidflag2 = abigflag & asmallflag\n",
    "print('The results of combining the two previous selections:',amidflag2, a[amidflag2])\n",
    "\n",
    "#and finally, we can assign only the values that satisfy a boolean command to a new arraw.\n",
    "#in this case, only values of a with True indicies in amidflag2 will be assigned to c\n",
    "onlymidvalues = a[amidflag2]\n",
    "print(c)\n",
    "\n",
    "#in the exercise below, we will use this technique to print out the flux at a point\n",
    "#on the spectrum with a given wavelength"
   ]
  },
  {
   "cell_type": "markdown",
   "id": "7e40f221",
   "metadata": {},
   "source": [
    "### Problem 6 (15 points)\n",
    "Using the plot above write two blocks of code.  \n",
    "1. (5 points) Estimate by eye the central wavelength of each filter, using the plotted filter curves.  Note this is the central wavelength, not the peak wavelength.  Then use this wavelength as in the exercise above to determine \n",
    "    * fnu for each filter and each star\n",
    "    * the AB magnitude for each filter and each star\n",
    "    * the g-r color for each star\n",
    "    * make sure all of these are clearly printed out.\n",
    "    * In the textbox following the code block discuss your answers and if they make sense\n",
    "2. (5 points) Now come up with your own method of estimating the fnu using the full filter curve.  There are multiple ways to do this.  If you don't have a lot of computing experience, you should try an approximation for the filter shape that will allow you to better compute the average flux within the filter (*note the filter curves are fairly flat with sharp edges*).  If you want to try something more challenging, you can code up the full filter integral. Regardless of your choice, with that value of fnu, compute the AB magnitudes and filters as in the exercise above. \n",
    "    * It's great if you want to integrate the filter curve, but it is more complex because the filter and spectrum have different wavelength spacing and you have to interpolate the filter curve to match the spectra wavelength spacing.  Let me know if you're interested and I can help you do this.\n",
    "3. execute my block of code that computes the correct answers using the speclite package.  This package actually integrates the filter curves.  **Note that you will not get credit for just matching the correct answer.  I am including it so that you can comment on any differences in the following part.  I will grade you on how you get your answer, not whether your answer matches mine.**\n",
    "4. (5 points) Compare your colors with the plots of the spectra and comment on whether they make sense. .  "
   ]
  },
  {
   "cell_type": "code",
   "execution_count": 9,
   "id": "a6b046a5",
   "metadata": {},
   "outputs": [
    {
     "name": "stdout",
     "output_type": "stream",
     "text": [
      "fnu of star1 at the g-band =  4.254725050026667e-20\n",
      "fnu of star1 at the r-band =  3.054563950592e-20\n",
      "fnu of star3 at the g-band =  2.3977878384960003e-20\n",
      "fnu of star3 at the r-band =  3.645486071808e-20\n",
      "AB of star1 at the g-band =  -0.1721131283025508\n",
      "AB of star1 at the r-band =  0.18769256731531497\n",
      "AB of star3 at the g-band =  0.4505387394355591\n",
      "AB of star3 at the r-band =  -0.004322985916521298\n",
      "g-r color of star1 =  -0.3598056956178658\n",
      "g-r color of star3 =  0.4548617253520804\n"
     ]
    }
   ],
   "source": [
    "#### Write code here for 6.1\n",
    "\n",
    "#put your estimate for the central wavelength here\n",
    "lamrefg = 4600\n",
    "lamrefr = 6400\n",
    "\n",
    "#construct the wavelength difference array for all the star and reference wavelength combinations.\n",
    "star1_difflam_refg = abs(star1['lambda']-lamrefg)  \n",
    "star1_difflam_refr = abs(star1['lambda']-lamrefr)  \n",
    "\n",
    "star3_difflam_refg = abs(star3['lambda']-lamrefg)  \n",
    "star3_difflam_refr = abs(star3['lambda']-lamrefr)  \n",
    "\n",
    "#now find the wavelength that is closest to lamref1 by using the 'argmin' function in python\n",
    "#which returns the index that corresponds to the minimum value\n",
    "minind_star1_difflam_refg = np.argmin(star1_difflam_refg)\n",
    "minind_star1_difflam_refr = np.argmin(star1_difflam_refr)\n",
    "\n",
    "minind_star3_difflam_refg = np.argmin(star3_difflam_refg)\n",
    "minind_star3_difflam_refr = np.argmin(star3_difflam_refr)\n",
    "\n",
    "#now we can use this index to find the wavelength and flux closest to the reference \n",
    "#wavelength by adding on a second index field\n",
    "#we assign these values to new variables.\n",
    "flam_star1_lamrefg = star1['flam'][minind_star1_difflam_refg]\n",
    "flam_star1_lamrefr = star1['flam'][minind_star1_difflam_refr]\n",
    "\n",
    "flam_star3_lamrefg = star3['flam'][minind_star1_difflam_refg]\n",
    "flam_star3_lamrefr = star3['flam'][minind_star1_difflam_refr]\n",
    "\n",
    "#the frequency corresponding to the reference wavelengths\n",
    "nu_refg = sol/(lamrefg*AtoM)\n",
    "\n",
    "nu_refr = sol/(lamrefr*AtoM)\n",
    "\n",
    "#hint: make sure that c has the right units so that your answer is in erg/s/cm^2/Hz\n",
    "fnu_star1_gband = flam_star1_lamrefg * (lamrefg)**2/solA\n",
    "fnu_star3_gband = flam_star3_lamrefg * (lamrefg)**2/solA\n",
    "\n",
    "fnu_star1_rband = flam_star1_lamrefr * (lamrefr)**2/solA\n",
    "fnu_star3_rband = flam_star3_lamrefr * (lamrefr)**2/solA\n",
    "\n",
    "\n",
    "#print your fnu's here with the following format\n",
    "print('fnu of star1 at the g-band = ', fnu_star1_gband)\n",
    "print('fnu of star1 at the r-band = ', fnu_star1_rband)\n",
    "print('fnu of star3 at the g-band = ', fnu_star3_gband)\n",
    "print('fnu of star3 at the r-band = ', fnu_star3_rband)\n",
    "\n",
    "\n",
    "#AB mag for each filter and star\n",
    "#your calculations\n",
    "abc = 3631*10**(-23) # AB constant in ergs\n",
    "\n",
    "ABmag_star1_gband = (-2.5*np.log10(fnu_star1_gband/abc))\n",
    "ABmag_star1_rband = (-2.5*np.log10(fnu_star1_rband/abc))\n",
    "ABmag_star3_gband = (-2.5*np.log10(fnu_star3_gband/abc))\n",
    "ABmag_star3_rband = (-2.5*np.log10(fnu_star3_rband/abc))\n",
    "\n",
    "#print your AB mags here with the following format\n",
    "print('AB of star1 at the g-band = ', ABmag_star1_gband)\n",
    "print('AB of star1 at the r-band = ', ABmag_star1_rband)\n",
    "print('AB of star3 at the g-band = ', ABmag_star3_gband)\n",
    "print('AB of star3 at the r-band = ', ABmag_star3_rband)\n",
    "\n",
    "#g-r color for each star\n",
    "#your calculations\n",
    "\n",
    "gr_star1 = ABmag_star1_gband - ABmag_star1_rband\n",
    "gr_star3 = ABmag_star3_gband - ABmag_star3_rband\n",
    "\n",
    "#print your colors here with the following format\n",
    "print('g-r color of star1 = ', gr_star1)\n",
    "print('g-r color of star3 = ', gr_star3)\n"
   ]
  },
  {
   "cell_type": "markdown",
   "id": "091c5acb",
   "metadata": {},
   "source": []
  },
  {
   "cell_type": "markdown",
   "id": "063eee82",
   "metadata": {},
   "source": [
    "For part 6.2, I won't tell you what to do.  I want you to come up with your own way.  To get full credit you will need to get a valid answer.  Even one step more sophisticated than the previous part is enough but you need to get a valid answer to get full credit.  You will get partial credit depending on how far you get."
   ]
  },
  {
   "cell_type": "code",
   "execution_count": 11,
   "id": "d103e70d",
   "metadata": {},
   "outputs": [
    {
     "name": "stdout",
     "output_type": "stream",
     "text": [
      "fnu of star1 at the g-band =  3.959103061449752e-20\n",
      "fnu of star1 at the r-band =  3.135789420153702e-20\n",
      "fnu of star3 at the g-band =  2.3626942514849854e-20\n",
      "fnu of star3 at the r-band =  4.1858773214872617e-20\n",
      "AB of star1 at the g-band =  -0.09392639582418796\n",
      "AB of star1 at the r-band =  0.15919839600115243\n",
      "AB of star3 at the g-band =  0.4665468106729323\n",
      "AB of star3 at the r-band =  -0.15440061774005012\n",
      "g-r color of star1 =  -0.2531247918253404\n",
      "g-r color of star3 =  0.6209474284129824\n"
     ]
    }
   ],
   "source": [
    "#### Write code here for 6.2\n",
    "\n",
    "\n",
    "\n",
    "lamrefgl = 4100 #gl = green low\n",
    "lamrefgh = 5250 #gh = green high\n",
    "\n",
    "lamrefrl = 5750 #rl = red low\n",
    "lamrefrh = 6600 #rh = red high\n",
    "\n",
    "#make diff arrays\n",
    "star1_difflam_refgl = abs(star1['lambda']-lamrefgl)  \n",
    "star1_difflam_refgh = abs(star1['lambda']-lamrefgh)  \n",
    "\n",
    "star3_difflam_refgl = abs(star3['lambda']-lamrefgl)  \n",
    "star3_difflam_refgh = abs(star3['lambda']-lamrefgh)  \n",
    "\n",
    "star1_difflam_refrl = abs(star1['lambda']-lamrefrl)  \n",
    "star1_difflam_refrh = abs(star1['lambda']-lamrefrh)  \n",
    "\n",
    "star3_difflam_refrl = abs(star3['lambda']-lamrefrl)  \n",
    "star3_difflam_refrh = abs(star3['lambda']-lamrefrh)\n",
    "\n",
    "#find the index points for the lamref\n",
    "minind_star1_difflam_refgl = np.argmin(star1_difflam_refgl)\n",
    "minind_star1_difflam_refgh = np.argmin(star1_difflam_refgh)\n",
    "\n",
    "minind_star3_difflam_refgl = np.argmin(star3_difflam_refgl)\n",
    "minind_star3_difflam_refgh = np.argmin(star3_difflam_refgh)\n",
    "\n",
    "minind_star1_difflam_refrl = np.argmin(star1_difflam_refrl)\n",
    "minind_star1_difflam_refrh = np.argmin(star1_difflam_refrh)\n",
    "\n",
    "minind_star3_difflam_refrl = np.argmin(star3_difflam_refrl)\n",
    "minind_star3_difflam_refrh = np.argmin(star3_difflam_refrh)\n",
    "#take flam and lam and find fnu at that lam value and add it to an array\n",
    "#gband-star1\n",
    "average_fnu=0\n",
    "counter=0\n",
    "for i in range(minind_star1_difflam_refgl,(minind_star1_difflam_refgh+1)):\n",
    "    temp_lam=star1['lambda'][i]\n",
    "    temp_flam=star1['flam'][i]\n",
    "    #now calculate fnu\n",
    "    temp_fnu = temp_flam * (temp_lam)**2/solA\n",
    "    \n",
    "    #add fnu to total\n",
    "    counter=counter+1\n",
    "    average_fnu=average_fnu+temp_fnu\n",
    "#assign variable\n",
    "fnu_star1_gband=average_fnu/counter\n",
    "#restart the process\n",
    "#gband star 3\n",
    "average_fnu=0\n",
    "counter=0\n",
    "for i in range(minind_star3_difflam_refgl,(minind_star3_difflam_refgh+1)):\n",
    "    temp_lam=star3['lambda'][i]\n",
    "    temp_flam=star3['flam'][i]\n",
    "    \n",
    "    #now calculate fnu\n",
    "    temp_fnu = temp_flam * (temp_lam)**2/solA\n",
    "    \n",
    "    #add fnu to total\n",
    "    counter=counter+1\n",
    "    \n",
    "    average_fnu=average_fnu+temp_fnu\n",
    "#assign variable\n",
    "fnu_star3_gband=average_fnu/counter\n",
    "#star1 rband\n",
    "average_fnu=0\n",
    "counter=0\n",
    "for i in range(minind_star1_difflam_refrl,(minind_star1_difflam_refrh+1)):\n",
    "    temp_lam=star1['lambda'][i]\n",
    "    temp_flam=star1['flam'][i]\n",
    "   \n",
    "    #now calculate fnu\n",
    "    temp_fnu = temp_flam * (temp_lam)**2/solA\n",
    "    \n",
    "    #add fnu to total\n",
    "    counter=counter+1\n",
    "    average_fnu=average_fnu+temp_fnu\n",
    "#assign variable\n",
    "fnu_star1_rband=average_fnu/counter\n",
    "#star3 rband\n",
    "average_fnu=0\n",
    "counter=0\n",
    "for i in range(minind_star3_difflam_refrl,(minind_star3_difflam_refrh+1)):\n",
    "    temp_lam=star3['lambda'][i]\n",
    "    temp_flam=star3['flam'][i]\n",
    "    \n",
    "    #now calculate fnu\n",
    "    temp_fnu = temp_flam * (temp_lam)**2/solA\n",
    "    \n",
    "    #add fnu to total\n",
    "    counter=counter+1\n",
    "    average_fnu=average_fnu+temp_fnu\n",
    "#assign variable\n",
    "fnu_star3_rband=average_fnu/counter\n",
    "\n",
    "#find the average of the fnu array and use those values to find the other values\n",
    "\n",
    "#I'm assuming that you did your calculation for fnu above this line\n",
    "\n",
    "\n",
    "\n",
    "#print your fnu's here with the following format\n",
    "print('fnu of star1 at the g-band = ', fnu_star1_gband)\n",
    "print('fnu of star1 at the r-band = ', fnu_star1_rband)\n",
    "print('fnu of star3 at the g-band = ', fnu_star3_gband)\n",
    "print('fnu of star3 at the r-band = ', fnu_star3_rband)\n",
    "\n",
    "#AB mag for each filter and star\n",
    "#your calculations\n",
    "\n",
    "#print your AB mags here with the following format\n",
    "ABmag_star1_gband = (-2.5*np.log10(fnu_star1_gband/abc))\n",
    "ABmag_star1_rband = (-2.5*np.log10(fnu_star1_rband/abc))\n",
    "ABmag_star3_gband = (-2.5*np.log10(fnu_star3_gband/abc))\n",
    "ABmag_star3_rband = (-2.5*np.log10(fnu_star3_rband/abc))\n",
    "\n",
    "#print your AB mags here with the following format\n",
    "print('AB of star1 at the g-band = ', ABmag_star1_gband)\n",
    "print('AB of star1 at the r-band = ', ABmag_star1_rband)\n",
    "print('AB of star3 at the g-band = ', ABmag_star3_gband)\n",
    "print('AB of star3 at the r-band = ', ABmag_star3_rband)\n",
    "\n",
    "#g-r color for each star\n",
    "#your calculations\n",
    "\n",
    "gr_star1 = ABmag_star1_gband - ABmag_star1_rband \n",
    "gr_star3 = ABmag_star3_gband - ABmag_star3_rband \n",
    "\n",
    "#print your colors here with the following format\n",
    "print('g-r color of star1 = ', gr_star1)\n",
    "print('g-r color of star3 = ', gr_star3)\n"
   ]
  },
  {
   "cell_type": "markdown",
   "id": "2844ad8b",
   "metadata": {},
   "source": [
    "## Check your work\n",
    "\n",
    "The code below derives magnitudes and colors using the full filter convolution using speclite.  This takes into account both the full filter shape and the full spectrum.  You will just need to execute this code and compare to your answers in 6.3.\n"
   ]
  },
  {
   "cell_type": "code",
   "execution_count": 14,
   "id": "fc4770a1",
   "metadata": {},
   "outputs": [
    {
     "name": "stdout",
     "output_type": "stream",
     "text": [
      "AB of star1 at the g-band =  -0.08466446683577125\n",
      "AB of star1 at the r-band =  0.15442225473899127\n",
      "AB of star3 at the g-band =  0.4859502808711387\n",
      "AB of star3 at the r-band =  -0.1514976730245384\n",
      "g-r color of star1 =  -0.23908672157476252\n",
      "g-r color of star3 =  0.6374479538956771\n"
     ]
    }
   ],
   "source": [
    "#we need to create \"validated\" wavelength arrays that conform to the \n",
    "#characteristics needed as input by speclite\n",
    "#we use the units module to assign specific units to all wavelength and fluxes, as \n",
    "#speclite needs this to run properly.\n",
    "star1lam = speclite.filters.validate_wavelength_array(star1['lambda']*u.AA)\n",
    "star3lam = speclite.filters.validate_wavelength_array(star3['lambda']*u.AA)\n",
    "\n",
    "#specify the flux unit of the input flux of our stars using the astropy units package\n",
    "#these units will be associated with any number they are multiplied by.\n",
    "fluxunit = u.erg/u.s/u.cm**2/u.AA\n",
    "\n",
    "#these are useful speclite built in functions that\n",
    "#1. integrate the spectrum over the filter curve\n",
    "#2. divide it by the integral of just the filter curve, thus performing an average\n",
    "#of the spectrum weighted by the filter curve \n",
    "#3. convert the average flux to fnu\n",
    "#4. compute the AB magnitude\n",
    "ABmag_star1_gband = gband.get_ab_magnitude(star1['flam']*fluxunit,wavelength=star1lam*u.AA)\n",
    "ABmag_star1_rband = rband.get_ab_magnitude(star1['flam']*fluxunit,wavelength=star1lam*u.AA)\n",
    "\n",
    "ABmag_star3_gband = gband.get_ab_magnitude(star3['flam']*fluxunit,wavelength=star3lam*u.AA)\n",
    "ABmag_star3_rband = rband.get_ab_magnitude(star3['flam']*fluxunit,wavelength=star3lam*u.AA)\n",
    "\n",
    "print('AB of star1 at the g-band = ', ABmag_star1_gband)\n",
    "print('AB of star1 at the r-band = ', ABmag_star1_rband)\n",
    "print('AB of star3 at the g-band = ', ABmag_star3_gband)\n",
    "print('AB of star3 at the r-band = ', ABmag_star3_rband)\n",
    "\n",
    "gr_star1 =ABmag_star1_gband - ABmag_star1_rband\n",
    "gr_star3 = ABmag_star3_gband - ABmag_star3_rband\n",
    "\n",
    "#print your colors here with the following format\n",
    "print('g-r color of star1 = ', gr_star1)\n",
    "print('g-r color of star3 = ', gr_star3)\n"
   ]
  },
  {
   "cell_type": "markdown",
   "id": "5239429e",
   "metadata": {},
   "source": [
    "### 6.3 Check your answer and comment\n",
    "\n",
    "Comment on how the colors compare to the spectra in the plot and to the differences between your two techniques.  Also compare to the correct answer given in the last cell.  Discuss why your techniques might have given different answers or the same."
   ]
  },
  {
   "cell_type": "markdown",
   "id": "499a2f4d",
   "metadata": {},
   "source": [
    "Star 1 has a majority of its energy coming from the green end of the spectrum so it is no suprise when g-r of star 1 is negative, as negative g-r means a smaller magnitude in the g band which means a large flux in the green band. Star 3 has a lot more flux coming from the red filter. This is due to the fact that star 3 has almost a straight line for and flam graph, but the green side of star 3 is riddled with spectral lines, also the very left side of the bandpass sharply drops off, these affects combined drive down the average flux and puts comparitivly raises the red flux making g-r more positive.\n",
    "\n",
    "The answer for the average of the majority of the band passes are very close to the correct answer, differeces that can probably be attributed to the difference in the amount of the bandpass that was covered. \n",
    "\n",
    "These two techniques are different mainly in that while the single wavelength approximation is simple, the average approximation is much more robust. What I mean is that one of your reference wavelengths could resolve to a spectral line or some other outlier. If this happens to the average approximation, it is just one out of a thousand and does not effect the end result as much."
   ]
  },
  {
   "cell_type": "code",
   "execution_count": null,
   "id": "b5067785",
   "metadata": {},
   "outputs": [],
   "source": []
  },
  {
   "cell_type": "code",
   "execution_count": null,
   "id": "fea6efba",
   "metadata": {},
   "outputs": [],
   "source": []
  },
  {
   "cell_type": "code",
   "execution_count": null,
   "id": "feccd33f",
   "metadata": {},
   "outputs": [],
   "source": []
  }
 ],
 "metadata": {
  "kernelspec": {
   "display_name": "Python 3",
   "language": "python",
   "name": "python3"
  },
  "language_info": {
   "codemirror_mode": {
    "name": "ipython",
    "version": 3
   },
   "file_extension": ".py",
   "mimetype": "text/x-python",
   "name": "python",
   "nbconvert_exporter": "python",
   "pygments_lexer": "ipython3",
   "version": "3.9.4"
  }
 },
 "nbformat": 4,
 "nbformat_minor": 5
}
